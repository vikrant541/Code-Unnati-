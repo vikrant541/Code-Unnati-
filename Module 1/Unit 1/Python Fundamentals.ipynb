{
 "cells": [
  {
   "cell_type": "raw",
   "id": "ec25d395",
   "metadata": {},
   "source": [
    "print ('HELLO WORLD')\n"
   ]
  },
  {
   "cell_type": "raw",
   "id": "bd3000cf",
   "metadata": {},
   "source": [
    "\"\"\"\n",
    "DATE: 17/08/2022\n",
    "DAY : 2\n",
    "SESSION: 2\n",
    "\"\"\""
   ]
  },
  {
   "cell_type": "code",
   "execution_count": 1,
   "id": "cc7b1d4a",
   "metadata": {},
   "outputs": [
    {
     "name": "stdout",
     "output_type": "stream",
     "text": [
      "I am a learner and i am here today to learn\n"
     ]
    }
   ],
   "source": [
    "print(\"I am a learner and i am here today to learn\")"
   ]
  },
  {
   "cell_type": "code",
   "execution_count": 2,
   "id": "93e3e039",
   "metadata": {},
   "outputs": [],
   "source": [
    "str = 'My Name is Vikrant'"
   ]
  },
  {
   "cell_type": "code",
   "execution_count": 3,
   "id": "20a8c3f1",
   "metadata": {},
   "outputs": [
    {
     "name": "stdout",
     "output_type": "stream",
     "text": [
      "M\n"
     ]
    }
   ],
   "source": [
    "print(str[0])"
   ]
  },
  {
   "cell_type": "code",
   "execution_count": 4,
   "id": "ba92fe30",
   "metadata": {},
   "outputs": [
    {
     "name": "stdout",
     "output_type": "stream",
     "text": [
      "My Name is Vikrant\n"
     ]
    }
   ],
   "source": [
    "print(str[:])"
   ]
  },
  {
   "cell_type": "code",
   "execution_count": 5,
   "id": "7afe6855",
   "metadata": {},
   "outputs": [
    {
     "name": "stdout",
     "output_type": "stream",
     "text": [
      "1 1 1\n"
     ]
    }
   ],
   "source": [
    "a = b = c = 1\n",
    "print(a,b,c)"
   ]
  },
  {
   "cell_type": "code",
   "execution_count": 6,
   "id": "a3553ebd",
   "metadata": {},
   "outputs": [
    {
     "name": "stdout",
     "output_type": "stream",
     "text": [
      "2091606436144\n"
     ]
    }
   ],
   "source": [
    "print(id(a))"
   ]
  },
  {
   "cell_type": "code",
   "execution_count": 7,
   "id": "5d646ac0",
   "metadata": {},
   "outputs": [
    {
     "name": "stdout",
     "output_type": "stream",
     "text": [
      "2091606436144 2091606436144 2091606436144\n"
     ]
    }
   ],
   "source": [
    "print(id(a),id(b),id(c))\n",
    "# use id() to get the object location in python\n",
    "# alicing concepts in pythom"
   ]
  },
  {
   "cell_type": "code",
   "execution_count": 8,
   "id": "17199c72",
   "metadata": {},
   "outputs": [
    {
     "name": "stdout",
     "output_type": "stream",
     "text": [
      "Vikrant and Vijay was going to home.\n"
     ]
    }
   ],
   "source": [
    "str = 'Vikrant and Vijay was going to home.'\n",
    "print(str)"
   ]
  },
  {
   "cell_type": "code",
   "execution_count": 9,
   "id": "458d6651",
   "metadata": {},
   "outputs": [
    {
     "name": "stdout",
     "output_type": "stream",
     "text": [
      "V\n",
      "Vikrant and Vijay was going to home.\n",
      "n\n",
      "i\n"
     ]
    }
   ],
   "source": [
    "print(str[:1])\n",
    "print(str[::1])\n",
    "print(str[5])\n",
    "print(str[-12])\n"
   ]
  },
  {
   "cell_type": "code",
   "execution_count": 10,
   "id": "3c380641",
   "metadata": {},
   "outputs": [
    {
     "name": "stdout",
     "output_type": "stream",
     "text": [
      "ikrant \n",
      "ikrant a\n",
      "ikrant and Vijay was going to home.\n",
      "Vikrant an\n",
      "Vikrant and Vijay was going to home\n",
      ".\n",
      ".emoh ot gniog saw yajiV dna tnarkiV\n",
      ".\n",
      "a\n",
      " \n"
     ]
    }
   ],
   "source": [
    "print(str[1:8])\n",
    "print(str[1:9])\n",
    "print(str[1:])\n",
    "print(str[:10])\n",
    "print(str[:-1])\n",
    "print(str[-1:])\n",
    "print(str[::-1])\n",
    "print(str[-1::])\n",
    "print(str[8])\n",
    "print(str[7])"
   ]
  },
  {
   "cell_type": "code",
   "execution_count": 11,
   "id": "76b8c9b2",
   "metadata": {},
   "outputs": [
    {
     "name": "stdout",
     "output_type": "stream",
     "text": [
      "Vikrant and Vijay was going to home.\n"
     ]
    }
   ],
   "source": [
    "print(str[-36:])\n",
    "# to print whole string with the help of  negative indexing"
   ]
  },
  {
   "cell_type": "code",
   "execution_count": 12,
   "id": "b99dbd29",
   "metadata": {},
   "outputs": [],
   "source": [
    "#    \"str[0] = a\" this code will not run\n",
    "\n",
    "# not possible\n",
    "# updation of a string's character can't be done \n"
   ]
  },
  {
   "cell_type": "code",
   "execution_count": 13,
   "id": "f5bef866",
   "metadata": {},
   "outputs": [
    {
     "name": "stdout",
     "output_type": "stream",
     "text": [
      "Vikrant\n"
     ]
    }
   ],
   "source": [
    "str =\"Vikrant\"\n",
    "print(str)"
   ]
  },
  {
   "cell_type": "code",
   "execution_count": 14,
   "id": "c0591064",
   "metadata": {},
   "outputs": [
    {
     "name": "stdout",
     "output_type": "stream",
     "text": [
      "vikrant python java\n"
     ]
    }
   ],
   "source": [
    "#default order\n",
    "string1 = '{} {} {}'.format('vikrant','python','java')\n",
    "print(string1)"
   ]
  },
  {
   "cell_type": "code",
   "execution_count": 15,
   "id": "e307c224",
   "metadata": {},
   "outputs": [
    {
     "name": "stdout",
     "output_type": "stream",
     "text": [
      "\n",
      "this is positional formatting\n",
      "python java vikrant\n"
     ]
    }
   ],
   "source": [
    "#positional formatting\n",
    "# will vary the position with resoect to index\n",
    "string1 = '{1} {2} {0}'.format('vikrant','python','java')\n",
    "print(\"\\nthis is positional formatting\")\n",
    "print(string1)"
   ]
  },
  {
   "cell_type": "code",
   "execution_count": 16,
   "id": "9e20af13",
   "metadata": {},
   "outputs": [
    {
     "name": "stdout",
     "output_type": "stream",
     "text": [
      "java vikrant python\n"
     ]
    }
   ],
   "source": [
    "string1 = '{2} {0} {1}'.format('vikrant','python','java')\n",
    "print(string1)"
   ]
  },
  {
   "cell_type": "code",
   "execution_count": 17,
   "id": "845f7500",
   "metadata": {},
   "outputs": [
    {
     "name": "stdout",
     "output_type": "stream",
     "text": [
      "vikrant javascript python java\n"
     ]
    }
   ],
   "source": [
    "#keyword formatting\n",
    "#based on keyword\n",
    "string1 = '{a} {d} {b} {c}'.format(a = 'vikrant',b = 'python',c = 'java',d = 'javascript')\n",
    "print(string1)"
   ]
  },
  {
   "cell_type": "code",
   "execution_count": 18,
   "id": "3e63d970",
   "metadata": {},
   "outputs": [
    {
     "name": "stdout",
     "output_type": "stream",
     "text": [
      "javascript java vikrant python\n"
     ]
    }
   ],
   "source": [
    "string1 = '{d} {c} {a} {b}'.format(a = 'vikrant',b = 'python',c = 'java',d = 'javascript')\n",
    "print(string1)"
   ]
  },
  {
   "cell_type": "code",
   "execution_count": 19,
   "id": "ba41cc61",
   "metadata": {},
   "outputs": [
    {
     "name": "stdout",
     "output_type": "stream",
     "text": [
      "[1, 2, 3, 4, 5, 6, 7, 8, 9, 10]\n",
      "[1, 2, 3, 4, 5, 6, 7, 8, 9, 10, 'Vijay', 34, 56, 45]\n",
      "[1, 2, 3, 4, 5, 6, 7, 8, 9, 10, 1, 2, 3, 4, 5, 6, 7, 8, 9, 10]\n"
     ]
    }
   ],
   "source": [
    "list = [1,2,3,4,5,6,7,8,9,10]\n",
    "vikrant = ['Vijay', 34 ,56, 45]\n",
    "\n",
    "#to print the list\n",
    "print(list)\n",
    "\n",
    "#to print two list together (concatenated lists)\n",
    "print(list + vikrant)\n",
    "\n",
    "#to print two times a list\n",
    "print(list * 2)"
   ]
  },
  {
   "cell_type": "code",
   "execution_count": 20,
   "id": "bb334ca0",
   "metadata": {},
   "outputs": [
    {
     "name": "stdout",
     "output_type": "stream",
     "text": [
      "3\n",
      "Vijay\n",
      "[45, 2, 3, 4, 5, 6, 7, 8, 9, 10]\n"
     ]
    }
   ],
   "source": [
    "#access list element through elements\n",
    "print(list[2])\n",
    "print(vikrant[0])\n",
    "\n",
    "\n",
    "# updation of a list\n",
    "list[0] = 45\n",
    "print(list)"
   ]
  },
  {
   "cell_type": "code",
   "execution_count": 21,
   "id": "941766f6",
   "metadata": {},
   "outputs": [],
   "source": [
    "# taking input from user"
   ]
  },
  {
   "cell_type": "code",
   "execution_count": 22,
   "id": "e1690606",
   "metadata": {},
   "outputs": [
    {
     "name": "stdout",
     "output_type": "stream",
     "text": [
      "User is allowed to Enter anything\n",
      "\n"
     ]
    }
   ],
   "source": [
    "n = input('User is allowed to Enter anything')\n",
    "print(n)"
   ]
  },
  {
   "cell_type": "code",
   "execution_count": 23,
   "id": "1fcdb23f",
   "metadata": {},
   "outputs": [],
   "source": [
    "# taking input from user in list"
   ]
  },
  {
   "cell_type": "code",
   "execution_count": 24,
   "id": "b0ca6332",
   "metadata": {},
   "outputs": [
    {
     "name": "stdout",
     "output_type": "stream",
     "text": [
      "\n"
     ]
    },
    {
     "ename": "TypeError",
     "evalue": "'list' object is not callable",
     "output_type": "error",
     "traceback": [
      "\u001b[1;31m---------------------------------------------------------------------------\u001b[0m",
      "\u001b[1;31mTypeError\u001b[0m                                 Traceback (most recent call last)",
      "Input \u001b[1;32mIn [24]\u001b[0m, in \u001b[0;36m<cell line: 1>\u001b[1;34m()\u001b[0m\n\u001b[1;32m----> 1\u001b[0m list3 \u001b[38;5;241m=\u001b[39m \u001b[38;5;28;43mlist\u001b[39;49m\u001b[43m(\u001b[49m\u001b[38;5;28;43mmap\u001b[39;49m\u001b[43m(\u001b[49m\u001b[38;5;28;43mint\u001b[39;49m\u001b[43m,\u001b[49m\u001b[38;5;28;43minput\u001b[39;49m\u001b[43m(\u001b[49m\u001b[43m)\u001b[49m\u001b[38;5;241;43m.\u001b[39;49m\u001b[43msplit\u001b[49m\u001b[43m(\u001b[49m\u001b[43m)\u001b[49m\u001b[43m)\u001b[49m\u001b[43m)\u001b[49m\n\u001b[0;32m      2\u001b[0m \u001b[38;5;28mprint\u001b[39m(list3)\n",
      "\u001b[1;31mTypeError\u001b[0m: 'list' object is not callable"
     ]
    }
   ],
   "source": [
    "list3 = list(map(int,input().split()))\n",
    "print(list3)"
   ]
  },
  {
   "cell_type": "code",
   "execution_count": null,
   "id": "c0130589",
   "metadata": {},
   "outputs": [],
   "source": [
    "str = input(\"Enter any sequence\")\n"
   ]
  },
  {
   "cell_type": "code",
   "execution_count": null,
   "id": "ce358745",
   "metadata": {},
   "outputs": [],
   "source": [
    "print(str.split(\"s\"))\n"
   ]
  },
  {
   "cell_type": "code",
   "execution_count": null,
   "id": "9ea7f358",
   "metadata": {},
   "outputs": [],
   "source": [
    "str = input(\"Enter any sequence\")\n",
    "print(str.split(\"22\"))"
   ]
  },
  {
   "cell_type": "code",
   "execution_count": 25,
   "id": "e2638774",
   "metadata": {},
   "outputs": [
    {
     "ename": "IndentationError",
     "evalue": "unexpected indent (3371688066.py, line 4)",
     "output_type": "error",
     "traceback": [
      "\u001b[1;36m  Input \u001b[1;32mIn [25]\u001b[1;36m\u001b[0m\n\u001b[1;33m    print(n_list[1][2])\u001b[0m\n\u001b[1;37m    ^\u001b[0m\n\u001b[1;31mIndentationError\u001b[0m\u001b[1;31m:\u001b[0m unexpected indent\n"
     ]
    }
   ],
   "source": [
    "# nested list\n",
    "n_list = ['Vikrant',[2,0,1,5] ]\n",
    "print(n_list[0][1])\n",
    " print(n_list[1][2])"
   ]
  },
  {
   "cell_type": "code",
   "execution_count": 26,
   "id": "e5011e7d",
   "metadata": {},
   "outputs": [
    {
     "name": "stdout",
     "output_type": "stream",
     "text": [
      "('vikrant', 12, 34, 45.0)\n",
      "('japnaam', 'nitish', 12.0, 23, 25, 'japnaam', 'nitish', 12.0, 23, 25)\n",
      "('japnaam', 'nitish', 12.0, 23, 25, 'vikrant', 12, 34, 45.0)\n"
     ]
    }
   ],
   "source": [
    "tuple = ('vikrant',12,34,45.0)\n",
    "print(tuple)\n",
    "vijay = ('japnaam','nitish',12.0,23,25)\n",
    "print(vijay * 2)\n",
    "print(vijay + tuple)"
   ]
  },
  {
   "cell_type": "code",
   "execution_count": 27,
   "id": "2d113aad",
   "metadata": {},
   "outputs": [
    {
     "name": "stdout",
     "output_type": "stream",
     "text": [
      "34\n",
      "(34, 45.0)\n"
     ]
    }
   ],
   "source": [
    "print(tuple[2])\n",
    "print(tuple[2:])"
   ]
  },
  {
   "cell_type": "code",
   "execution_count": 28,
   "id": "82e8438e",
   "metadata": {},
   "outputs": [],
   "source": [
    "# DICTIONARY IN PYTHON"
   ]
  },
  {
   "cell_type": "code",
   "execution_count": 29,
   "id": "8f6f26b2",
   "metadata": {},
   "outputs": [],
   "source": [
    "dict1 = {}\n",
    "dict1['one'] = \"this is python\"\n",
    "dict1['two'] = \"this is java\""
   ]
  },
  {
   "cell_type": "code",
   "execution_count": 30,
   "id": "e1879ae9",
   "metadata": {},
   "outputs": [
    {
     "name": "stdout",
     "output_type": "stream",
     "text": [
      "this is python\n",
      "this is java\n"
     ]
    }
   ],
   "source": [
    "print(dict1['one'])\n",
    "print(dict1['two'])"
   ]
  },
  {
   "cell_type": "code",
   "execution_count": 31,
   "id": "92cc1934",
   "metadata": {},
   "outputs": [
    {
     "name": "stdout",
     "output_type": "stream",
     "text": [
      "dict_keys(['name', 'id', 'class'])\n",
      "dict_values(['vikrant', 200305124082, 'ai_b2'])\n"
     ]
    }
   ],
   "source": [
    "dict2 = {'name':'vikrant','id':200305124082,'class':'ai_b2'}\n",
    "print(dict2.keys())\n",
    "print(dict2.values())"
   ]
  },
  {
   "cell_type": "code",
   "execution_count": 32,
   "id": "cbb045d5",
   "metadata": {},
   "outputs": [],
   "source": [
    "#WAP TO FIND OUT FACTORIAL OF A GIVEN NUMBER"
   ]
  },
  {
   "cell_type": "code",
   "execution_count": 33,
   "id": "a1dcdd5f",
   "metadata": {},
   "outputs": [
    {
     "name": "stdout",
     "output_type": "stream",
     "text": [
      "Enter a Number\n"
     ]
    },
    {
     "ename": "ValueError",
     "evalue": "invalid literal for int() with base 10: ''",
     "output_type": "error",
     "traceback": [
      "\u001b[1;31m---------------------------------------------------------------------------\u001b[0m",
      "\u001b[1;31mValueError\u001b[0m                                Traceback (most recent call last)",
      "Input \u001b[1;32mIn [33]\u001b[0m, in \u001b[0;36m<cell line: 1>\u001b[1;34m()\u001b[0m\n\u001b[1;32m----> 1\u001b[0m number \u001b[38;5;241m=\u001b[39m \u001b[38;5;28;43mint\u001b[39;49m\u001b[43m(\u001b[49m\u001b[38;5;28;43minput\u001b[39;49m\u001b[43m(\u001b[49m\u001b[38;5;124;43m\"\u001b[39;49m\u001b[38;5;124;43mEnter a Number\u001b[39;49m\u001b[38;5;124;43m\"\u001b[39;49m\u001b[43m)\u001b[49m\u001b[43m)\u001b[49m\n\u001b[0;32m      2\u001b[0m factorial \u001b[38;5;241m=\u001b[39m \u001b[38;5;241m1\u001b[39m\n\u001b[0;32m      3\u001b[0m \u001b[38;5;28;01mif\u001b[39;00m number\u001b[38;5;241m<\u001b[39m\u001b[38;5;241m0\u001b[39m:\n",
      "\u001b[1;31mValueError\u001b[0m: invalid literal for int() with base 10: ''"
     ]
    }
   ],
   "source": [
    "number = int(input(\"Enter a Number\"))\n",
    "factorial = 1\n",
    "if number<0:\n",
    "    print(\"factorial DNE\")\n",
    "elif number==0:\n",
    "    print(\"the factorial of 0 is 1\")\n",
    "else:\n",
    "    for i in range(1,number + 1):\n",
    "        factorial = factorial*i\n",
    "print(\"The factorial of\", number,\"is\",factorial)"
   ]
  },
  {
   "cell_type": "code",
   "execution_count": 34,
   "id": "57a7d7ca",
   "metadata": {},
   "outputs": [],
   "source": [
    "#WAP TO FIND THE SUM OF A DIGIT"
   ]
  },
  {
   "cell_type": "code",
   "execution_count": 35,
   "id": "0ba71ce9",
   "metadata": {},
   "outputs": [
    {
     "name": "stdout",
     "output_type": "stream",
     "text": [
      "Enter the number\n"
     ]
    },
    {
     "ename": "ValueError",
     "evalue": "invalid literal for int() with base 10: ''",
     "output_type": "error",
     "traceback": [
      "\u001b[1;31m---------------------------------------------------------------------------\u001b[0m",
      "\u001b[1;31mValueError\u001b[0m                                Traceback (most recent call last)",
      "Input \u001b[1;32mIn [35]\u001b[0m, in \u001b[0;36m<cell line: 11>\u001b[1;34m()\u001b[0m\n\u001b[0;32m      7\u001b[0m         n \u001b[38;5;241m=\u001b[39m n\u001b[38;5;241m/\u001b[39m\u001b[38;5;241m/\u001b[39m\u001b[38;5;241m10\u001b[39m\n\u001b[0;32m      9\u001b[0m     \u001b[38;5;28;01mreturn\u001b[39;00m \u001b[38;5;28msum\u001b[39m\n\u001b[1;32m---> 11\u001b[0m n \u001b[38;5;241m=\u001b[39m \u001b[38;5;28;43mint\u001b[39;49m\u001b[43m(\u001b[49m\u001b[38;5;28;43minput\u001b[39;49m\u001b[43m(\u001b[49m\u001b[38;5;124;43m\"\u001b[39;49m\u001b[38;5;124;43mEnter the number\u001b[39;49m\u001b[38;5;124;43m\"\u001b[39;49m\u001b[43m)\u001b[49m\u001b[43m)\u001b[49m\n\u001b[0;32m     12\u001b[0m \u001b[38;5;28mprint\u001b[39m(getSum(n))\n",
      "\u001b[1;31mValueError\u001b[0m: invalid literal for int() with base 10: ''"
     ]
    }
   ],
   "source": [
    "def getSum(n):\n",
    "    \n",
    "    sum = 0\n",
    "    while (n != 0):\n",
    "        \n",
    "        sum = sum + (n % 10)\n",
    "        n = n//10\n",
    "        \n",
    "    return sum\n",
    "\n",
    "n = int(input(\"Enter the number\"))\n",
    "print(getSum(n))"
   ]
  },
  {
   "cell_type": "code",
   "execution_count": 36,
   "id": "b29bb13c",
   "metadata": {},
   "outputs": [],
   "source": [
    "#WAP TO REVERSE A NUMBER "
   ]
  },
  {
   "cell_type": "raw",
   "id": "417e4ece",
   "metadata": {},
   "source": [
    "number = int(input(\"Enter the number\")) # to take input from user\n",
    "reverse_number = 0 # initate value to null\n",
    "while(number > 0):  # reverse the number using while loop\n",
    "    remainder = number%10 #main code\n",
    "    reverse_number =(reverse_number*10) + remainder\n",
    "    number = number //10\n",
    "    \n",
    "print(\"The reverse number is : {}\".format(reverse_number))\n",
    "\n",
    "\n",
    "\"\"\"\n",
    "reminder = number%10\n",
    "reminder = 5678%10\n",
    "reminder = 8\n",
    "initial value = 0\n",
    "reverse = 0*10 + 8 = 8\n",
    "number = number //10\n",
    "now number 567//10\n",
    "iteration\n",
    "\n",
    "reverse = reverse* 10 + remainder\n",
    "\"\"\""
   ]
  },
  {
   "cell_type": "code",
   "execution_count": 37,
   "id": "48454f5e",
   "metadata": {},
   "outputs": [],
   "source": [
    "# WAP TO CHECK RATHER A GIVEN NUMBER IS PALINDROME OR NOT?"
   ]
  },
  {
   "cell_type": "code",
   "execution_count": 38,
   "id": "ffea5f16",
   "metadata": {},
   "outputs": [
    {
     "name": "stdout",
     "output_type": "stream",
     "text": [
      "Enter number:\n"
     ]
    },
    {
     "ename": "ValueError",
     "evalue": "invalid literal for int() with base 10: ''",
     "output_type": "error",
     "traceback": [
      "\u001b[1;31m---------------------------------------------------------------------------\u001b[0m",
      "\u001b[1;31mValueError\u001b[0m                                Traceback (most recent call last)",
      "Input \u001b[1;32mIn [38]\u001b[0m, in \u001b[0;36m<cell line: 1>\u001b[1;34m()\u001b[0m\n\u001b[1;32m----> 1\u001b[0m n\u001b[38;5;241m=\u001b[39m\u001b[38;5;28;43mint\u001b[39;49m\u001b[43m(\u001b[49m\u001b[38;5;28;43minput\u001b[39;49m\u001b[43m(\u001b[49m\u001b[38;5;124;43m\"\u001b[39;49m\u001b[38;5;124;43mEnter number:\u001b[39;49m\u001b[38;5;124;43m\"\u001b[39;49m\u001b[43m)\u001b[49m\u001b[43m)\u001b[49m\n\u001b[0;32m      2\u001b[0m temp\u001b[38;5;241m=\u001b[39mn\n\u001b[0;32m      3\u001b[0m reverse\u001b[38;5;241m=\u001b[39m\u001b[38;5;241m0\u001b[39m\n",
      "\u001b[1;31mValueError\u001b[0m: invalid literal for int() with base 10: ''"
     ]
    }
   ],
   "source": [
    "n=int(input(\"Enter number:\"))\n",
    "temp=n\n",
    "reverse=0\n",
    "while(n>0):\n",
    "    dig=n%10\n",
    "    reverse=reverse*10+dig\n",
    "    n=n//10\n",
    "if(temp==reverse):\n",
    "    print(\"The number is a palindrome!\")\n",
    "else:\n",
    "    print(\"The number isn't a palindrome!\")"
   ]
  },
  {
   "cell_type": "code",
   "execution_count": 39,
   "id": "bcc29a42",
   "metadata": {},
   "outputs": [
    {
     "name": "stdout",
     "output_type": "stream",
     "text": [
      "maximum : 4556\n"
     ]
    }
   ],
   "source": [
    "\"\"\"\n",
    "4. PERFORM A CASE STUDY AND PERFORM THE FOLLOWING OPERATIONS ON TUPLES.\n",
    "  A. MAXIMA.\n",
    "  B. MINIMA.\n",
    "  C. SUM OF TWO TUPLES.\n",
    "  D. DUPLICATE OF A TUPLE.\n",
    "  E. SLICING OPERATIONS.\n",
    "  F. OBTAINING A LIST FROM TUPLE.\n",
    "  G. COMPARING TWO TUPLES.\n",
    "  H. PRINTING TWO TUPLES OF DIFFERENT DATATYOES.\n",
    "  \n",
    "\"\"\"\n",
    "\n",
    "vikrant = (234, 12, 45, 56, 4556)\n",
    "result = max(vikrant)\n",
    "print('maximum :', result)\n",
    "\n",
    "\n"
   ]
  },
  {
   "cell_type": "code",
   "execution_count": 40,
   "id": "dd93bdf0",
   "metadata": {},
   "outputs": [
    {
     "name": "stdout",
     "output_type": "stream",
     "text": [
      "8\n",
      "1\n",
      "43\n",
      "[1, 2]\n",
      "(2, 6, 5, 8)\n",
      "(1, 2, 6, 5, 8)\n",
      "(7, 9, 2, 1, 2, 4)\n",
      "(1, 2, 6, 5, 8, 7, 9, 2, 1, 2, 4)\n",
      "List fount in Tuple =  [1, 5, 6, 7]\n",
      "False\n",
      "Tuple_1:  ('Vijay', 'Ram', 'Sham')\n",
      "Tuple_2: (5, 8, 3)\n"
     ]
    }
   ],
   "source": [
    "\"\"\"\n",
    "4. PERFORM A CASE STUDY AND PERFORM THE FOLLOWING OPERATIONS ON TUPLES.\n",
    "  A. MAXIMA.\n",
    "  B. MINIMA.\n",
    "  C. SUM OF TWO TUPLES.\n",
    "  D. DUPLICATE OF A TUPLE.\n",
    "  E. SLICING OPERATIONS.\n",
    "  F. OBTAINING A LIST FROM TUPLE.\n",
    "  G. COMPARING TWO TUPLES.\n",
    "  H. PRINTING TWO TUPLES OF DIFFERENT DATATYOES.\n",
    "  \n",
    "\"\"\"\n",
    "t = (1,5,7,8)\n",
    "maxval = max(t);\n",
    "print(maxval)\n",
    "# for i in t:\n",
    "#     if(i>maxval):\n",
    "#         maxval = i;\n",
    "# print(i)\n",
    "\n",
    "#b> Minimum value:\n",
    "print(min(t))\n",
    "# minval = 0;\n",
    "# for i in range(0, len(t)-1):\n",
    "#     for j in range(i+1, len(t)):\n",
    "#         if(t[i]>t[j]):\n",
    "#             temp = t[i]\n",
    "#             t[i] = t[j]\n",
    "#             t[j] = temp\n",
    "# print(t[0])\n",
    "\n",
    "#c> sum of two tuples:\n",
    "t1 = (5, 4, 9)\n",
    "t2 = (10, 8, 7)\n",
    "\n",
    "s1 = sum(t1);\n",
    "s2 = sum(t2);\n",
    "\n",
    "print(s1+s2);\n",
    "    \n",
    "\n",
    "\n",
    "#d> Duplicate tuples:\n",
    "\n",
    "t1 = (1,2,6,5,8,7,9,2,1,2,4)\n",
    "a = []\n",
    "for i in t1:\n",
    "    n = t1.count(i)\n",
    "    if n>1:\n",
    "        if a.count(i) == 0:\n",
    "            a.append(i)\n",
    "print(a)\n",
    "\n",
    "#e> slicing operations:\n",
    "print(t1[1:5])\n",
    "print(t1[0:5])\n",
    "print(t1[5:])\n",
    "print(t1[:])\n",
    "\n",
    "#f> obtaining the list from the tuple:\n",
    "l = [1,5,6,7]\n",
    "t = (1,5,6,7,l, 8,9,8)\n",
    "if(l in t):\n",
    "    print(\"List fount in Tuple = \",l)\n",
    "else:\n",
    "    print(False)\n",
    "\n",
    "\n",
    "#g> Comparing two tuples:\n",
    "t1 = (1,5,6,9,8)\n",
    "t2 = (1,6,8,9,3)\n",
    "if(t1 == t2):\n",
    "    print(True)\n",
    "else:\n",
    "    print(False)\n",
    "\n",
    "#h> Printing two tuples of different datatypes:\n",
    "\n",
    "t1 = (\"Vijay\", \"Ram\", \"Sham\")\n",
    "t2 = (5, 8, 3)\n",
    "print(\"Tuple_1: \",t1)\n",
    "print(\"Tuple_2:\", t2)\n",
    "\n"
   ]
  },
  {
   "cell_type": "code",
   "execution_count": 3,
   "id": "6adbbbd0",
   "metadata": {},
   "outputs": [
    {
     "name": "stdout",
     "output_type": "stream",
     "text": [
      "[[0. 0. 0. 0.]\n",
      " [0. 0. 0. 0.]\n",
      " [0. 0. 0. 0.]]\n"
     ]
    }
   ],
   "source": [
    "import numpy as np\n",
    "x = np.ones((3,4))\n",
    "y = np.zeros((3,4))\n",
    "print(x*y)"
   ]
  },
  {
   "cell_type": "code",
   "execution_count": 6,
   "id": "21da9fea",
   "metadata": {},
   "outputs": [
    {
     "data": {
      "text/plain": [
       "3.0"
      ]
     },
     "execution_count": 6,
     "metadata": {},
     "output_type": "execute_result"
    }
   ],
   "source": [
    "import numpy as np\n",
    "np.mean([1,2,3,4,5])\n"
   ]
  },
  {
   "cell_type": "code",
   "execution_count": 8,
   "id": "de46ceba",
   "metadata": {},
   "outputs": [
    {
     "data": {
      "text/plain": [
       "4"
      ]
     },
     "execution_count": 8,
     "metadata": {},
     "output_type": "execute_result"
    }
   ],
   "source": [
    "#random generator number\n",
    "#importance of random seed\n",
    "import numpy as np\n",
    "np.ptp([1,5,3])"
   ]
  },
  {
   "cell_type": "code",
   "execution_count": null,
   "id": "9ecda434",
   "metadata": {},
   "outputs": [],
   "source": []
  }
 ],
 "metadata": {
  "kernelspec": {
   "display_name": "Python 3 (ipykernel)",
   "language": "python",
   "name": "python3"
  },
  "language_info": {
   "codemirror_mode": {
    "name": "ipython",
    "version": 3
   },
   "file_extension": ".py",
   "mimetype": "text/x-python",
   "name": "python",
   "nbconvert_exporter": "python",
   "pygments_lexer": "ipython3",
   "version": "3.9.12"
  }
 },
 "nbformat": 4,
 "nbformat_minor": 5
}
