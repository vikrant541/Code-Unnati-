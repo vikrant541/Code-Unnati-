{
 "cells": [
  {
   "cell_type": "code",
   "execution_count": 1,
   "id": "d76f2e92",
   "metadata": {},
   "outputs": [],
   "source": [
    "import numpy as np"
   ]
  },
  {
   "cell_type": "code",
   "execution_count": 7,
   "id": "07a00129",
   "metadata": {},
   "outputs": [
    {
     "data": {
      "text/plain": [
       "array([[1, 2, 3, 4, 5, 6],\n",
       "       [3, 5, 6, 7, 7, 9],\n",
       "       [3, 5, 6, 7, 8, 9]])"
      ]
     },
     "execution_count": 7,
     "metadata": {},
     "output_type": "execute_result"
    }
   ],
   "source": [
    "#to create an \n",
    "arr = np.array([[1,2,3,4,5,6,],[3,5,6,7,7,9],[3,5,6,7,8,9]])\n",
    "arr"
   ]
  },
  {
   "cell_type": "code",
   "execution_count": 10,
   "id": "5abce579",
   "metadata": {},
   "outputs": [
    {
     "name": "stdout",
     "output_type": "stream",
     "text": [
      "2\n"
     ]
    }
   ],
   "source": [
    "#to print dimension\n",
    "print(arr.ndim)"
   ]
  },
  {
   "cell_type": "code",
   "execution_count": 11,
   "id": "0c0d5d0c",
   "metadata": {},
   "outputs": [
    {
     "name": "stdout",
     "output_type": "stream",
     "text": [
      "(3, 6)\n"
     ]
    }
   ],
   "source": [
    "#to print the rows and columns\n",
    "print(arr.shape)"
   ]
  },
  {
   "cell_type": "code",
   "execution_count": 12,
   "id": "426420b2",
   "metadata": {},
   "outputs": [
    {
     "name": "stdout",
     "output_type": "stream",
     "text": [
      "<memory at 0x00000121EF213110>\n"
     ]
    }
   ],
   "source": [
    "#get the memory location\n",
    "print(arr.data)"
   ]
  },
  {
   "cell_type": "code",
   "execution_count": 13,
   "id": "476d2498",
   "metadata": {},
   "outputs": [
    {
     "name": "stdout",
     "output_type": "stream",
     "text": [
      "int32\n"
     ]
    }
   ],
   "source": [
    "#print datatype\n",
    "print(arr.dtype)"
   ]
  },
  {
   "cell_type": "code",
   "execution_count": 14,
   "id": "6dd9f107",
   "metadata": {},
   "outputs": [
    {
     "name": "stdout",
     "output_type": "stream",
     "text": [
      "2\n"
     ]
    }
   ],
   "source": [
    "print(arr[0,1])"
   ]
  },
  {
   "cell_type": "markdown",
   "id": "32abba8b",
   "metadata": {},
   "source": [
    "# IN 2D ARRAY"
   ]
  },
  {
   "cell_type": "code",
   "execution_count": 15,
   "id": "9f035dcb",
   "metadata": {},
   "outputs": [
    {
     "name": "stdout",
     "output_type": "stream",
     "text": [
      "[[3 4 5]\n",
      " [4 5 6]\n",
      " [6 7 8]] \n",
      "\n"
     ]
    }
   ],
   "source": [
    "v = np.array([[3,4,5],[4,5,6],[6,7,8]])\n",
    "print(v,\"\\n\")"
   ]
  },
  {
   "cell_type": "code",
   "execution_count": 16,
   "id": "6ac2f599",
   "metadata": {},
   "outputs": [
    {
     "data": {
      "text/plain": [
       "dtype('int32')"
      ]
     },
     "execution_count": 16,
     "metadata": {},
     "output_type": "execute_result"
    }
   ],
   "source": [
    "v.dtype"
   ]
  },
  {
   "cell_type": "code",
   "execution_count": 17,
   "id": "0c07d871",
   "metadata": {},
   "outputs": [
    {
     "data": {
      "text/plain": [
       "4"
      ]
     },
     "execution_count": 17,
     "metadata": {},
     "output_type": "execute_result"
    }
   ],
   "source": [
    "v.itemsize"
   ]
  },
  {
   "cell_type": "code",
   "execution_count": 18,
   "id": "31e1e7ea",
   "metadata": {},
   "outputs": [
    {
     "data": {
      "text/plain": [
       "9"
      ]
     },
     "execution_count": 18,
     "metadata": {},
     "output_type": "execute_result"
    }
   ],
   "source": [
    "#to get elements\n",
    "v.size"
   ]
  },
  {
   "cell_type": "code",
   "execution_count": 20,
   "id": "95a2e032",
   "metadata": {},
   "outputs": [
    {
     "name": "stdout",
     "output_type": "stream",
     "text": [
      "[[3. 4. 5.]\n",
      " [4. 5. 6.]\n",
      " [6. 7. 8.]] \n",
      "\n",
      "float64 \n",
      "\n",
      "9\n"
     ]
    }
   ],
   "source": [
    "v = np.array([[3,4,5],[4,5,6],[6,7,8]], dtype=np.float64)\n",
    "print(v,\"\\n\")\n",
    "print(v.dtype,\"\\n\")\n",
    "print(v.size)"
   ]
  },
  {
   "cell_type": "code",
   "execution_count": 23,
   "id": "9fcdca32",
   "metadata": {},
   "outputs": [
    {
     "name": "stdout",
     "output_type": "stream",
     "text": [
      "[[3.+0.j 4.+0.j 5.+0.j]\n",
      " [4.+0.j 5.+0.j 6.+0.j]\n",
      " [6.+0.j 7.+0.j 8.+0.j]] \n",
      "\n",
      "complex64 \n",
      "\n",
      "8 \n",
      "\n",
      "[[3.+0.j 4.+0.j 5.+0.j]\n",
      " [4.+0.j 5.+0.j 6.+0.j]\n",
      " [6.+0.j 7.+0.j 8.+0.j]] \n",
      "\n",
      "complex128 \n",
      "\n",
      "16\n"
     ]
    }
   ],
   "source": [
    "x= np.array([[3,4,5],[4,5,6],[6,7,8]], dtype=np.complex64)\n",
    "y= np.array([[3,4,5],[4,5,6],[6,7,8]], dtype=np.complex128)\n",
    "\n",
    "print(x,\"\\n\")\n",
    "print(x.dtype,\"\\n\")\n",
    "print(x.itemsize,\"\\n\")\n",
    "print(y,\"\\n\")\n",
    "print(y.dtype,\"\\n\")\n",
    "print(y.itemsize)"
   ]
  },
  {
   "cell_type": "code",
   "execution_count": 30,
   "id": "39d25362",
   "metadata": {},
   "outputs": [
    {
     "name": "stdout",
     "output_type": "stream",
     "text": [
      "[[3. 4. 5.]\n",
      " [4. 5. 6.]\n",
      " [6. 7. 8.]]\n"
     ]
    }
   ],
   "source": [
    "print((v))"
   ]
  },
  {
   "cell_type": "code",
   "execution_count": 32,
   "id": "37bdccfa",
   "metadata": {},
   "outputs": [
    {
     "name": "stdout",
     "output_type": "stream",
     "text": [
      "48.0\n"
     ]
    }
   ],
   "source": [
    "print(np.sum(v))"
   ]
  },
  {
   "cell_type": "code",
   "execution_count": 37,
   "id": "49ae7147",
   "metadata": {},
   "outputs": [
    {
     "name": "stdout",
     "output_type": "stream",
     "text": [
      "[[3. 4. 5.]\n",
      " [4. 5. 6.]\n",
      " [6. 7. 8.]] \n",
      "\n",
      "[13. 16. 19.]\n",
      "[12. 15. 21.]\n"
     ]
    }
   ],
   "source": [
    "#sum value along a specific axis\n",
    "# axis 0 = columnwise\n",
    "# axis 1 = rowwise\n",
    "print(v,\"\\n\")\n",
    "print(np.sum(v, axis = 0))\n",
    "print(np.sum(v, axis = 1))"
   ]
  },
  {
   "cell_type": "markdown",
   "id": "34b8be20",
   "metadata": {},
   "source": [
    "# minimum value"
   ]
  },
  {
   "cell_type": "code",
   "execution_count": 38,
   "id": "e1db7cbd",
   "metadata": {},
   "outputs": [
    {
     "name": "stdout",
     "output_type": "stream",
     "text": [
      "[[3. 4. 5.]\n",
      " [4. 5. 6.]\n",
      " [6. 7. 8.]] \n",
      "\n",
      "3.0\n",
      "[3. 4. 5.]\n",
      "[3. 4. 6.]\n"
     ]
    }
   ],
   "source": [
    "print(v,\"\\n\")\n",
    "print(np.amin(v))\n",
    "print(np.amin(v, axis = 0))\n",
    "print(np.amin(v, axis = 1))"
   ]
  },
  {
   "cell_type": "markdown",
   "id": "99b27b7c",
   "metadata": {},
   "source": [
    "# MAXIMUM VALUE"
   ]
  },
  {
   "cell_type": "code",
   "execution_count": 43,
   "id": "d01f35ae",
   "metadata": {},
   "outputs": [
    {
     "name": "stdout",
     "output_type": "stream",
     "text": [
      "[[3. 4. 5.]\n",
      " [4. 5. 6.]\n",
      " [6. 7. 8.]] \n",
      "\n",
      "8.0\n",
      "[6. 7. 8.]\n",
      "[5. 6. 8.]\n"
     ]
    }
   ],
   "source": [
    "print(v,\"\\n\")\n",
    "print(np.amax(v))\n",
    "print(np.amax(v, axis = 0))\n",
    "print(np.amax(v, axis = 1))"
   ]
  },
  {
   "cell_type": "markdown",
   "id": "4946f3d2",
   "metadata": {},
   "source": [
    "# MEAN"
   ]
  },
  {
   "cell_type": "code",
   "execution_count": 40,
   "id": "70a83e81",
   "metadata": {},
   "outputs": [
    {
     "name": "stdout",
     "output_type": "stream",
     "text": [
      "[[3. 4. 5.]\n",
      " [4. 5. 6.]\n",
      " [6. 7. 8.]] \n",
      "\n",
      "5.333333333333333\n",
      "[4.33333333 5.33333333 6.33333333]\n",
      "[4. 5. 7.]\n",
      "<class 'numpy.ndarray'>\n"
     ]
    }
   ],
   "source": [
    "print(v,\"\\n\")\n",
    "print(np.mean(v))\n",
    "print(np.mean(v, axis = 0))\n",
    "print(np.mean(v, axis = 1))\n",
    "print(type(v))\n"
   ]
  },
  {
   "cell_type": "markdown",
   "id": "05298765",
   "metadata": {},
   "source": [
    "# STANDARD DEVIATION"
   ]
  },
  {
   "cell_type": "code",
   "execution_count": 41,
   "id": "b0e0c6db",
   "metadata": {},
   "outputs": [
    {
     "name": "stdout",
     "output_type": "stream",
     "text": [
      "[[3. 4. 5.]\n",
      " [4. 5. 6.]\n",
      " [6. 7. 8.]] \n",
      "\n",
      "1.4907119849998598\n",
      "[1.24721913 1.24721913 1.24721913]\n",
      "[0.81649658 0.81649658 0.81649658]\n"
     ]
    }
   ],
   "source": [
    "print(v,\"\\n\")\n",
    "print(np.std(v))\n",
    "print(np.std(v, axis = 0))\n",
    "print(np.std(v, axis = 1))"
   ]
  },
  {
   "cell_type": "markdown",
   "id": "f9db5690",
   "metadata": {},
   "source": [
    "# MEDIAN"
   ]
  },
  {
   "cell_type": "code",
   "execution_count": 42,
   "id": "6864d8dc",
   "metadata": {},
   "outputs": [
    {
     "name": "stdout",
     "output_type": "stream",
     "text": [
      "[[3. 4. 5.]\n",
      " [4. 5. 6.]\n",
      " [6. 7. 8.]] \n",
      "\n",
      "5.0\n",
      "[4. 5. 6.]\n",
      "[4. 5. 7.]\n"
     ]
    }
   ],
   "source": [
    "print(v,\"\\n\")\n",
    "print(np.median(v))\n",
    "print(np.median(v, axis = 0))\n",
    "print(np.median(v, axis = 1))"
   ]
  },
  {
   "cell_type": "markdown",
   "id": "2dbff227",
   "metadata": {},
   "source": [
    "# VARIANCE"
   ]
  },
  {
   "cell_type": "code",
   "execution_count": 45,
   "id": "da9d1b35",
   "metadata": {},
   "outputs": [
    {
     "name": "stdout",
     "output_type": "stream",
     "text": [
      "[[3. 4. 5.]\n",
      " [4. 5. 6.]\n",
      " [6. 7. 8.]] \n",
      "\n",
      "2.2222222222222223\n",
      "[1.55555556 1.55555556 1.55555556]\n",
      "[0.66666667 0.66666667 0.66666667]\n"
     ]
    }
   ],
   "source": [
    "print(v,\"\\n\")\n",
    "print(np.var(v))\n",
    "print(np.var(v, axis = 0))\n",
    "print(np.var(v, axis = 1))"
   ]
  },
  {
   "cell_type": "code",
   "execution_count": 46,
   "id": "e91d550d",
   "metadata": {},
   "outputs": [
    {
     "name": "stdout",
     "output_type": "stream",
     "text": [
      "5.333333333333333\n"
     ]
    }
   ],
   "source": [
    "#WEIGHTED AVERAGWE\n",
    "print(np.average(v))"
   ]
  },
  {
   "cell_type": "code",
   "execution_count": 49,
   "id": "eddfd076",
   "metadata": {},
   "outputs": [
    {
     "name": "stdout",
     "output_type": "stream",
     "text": [
      "[ 2  5  6  3  4  5  6  7  8  7  8 10]\n"
     ]
    }
   ],
   "source": [
    "c = np.array([2,5,6,3,4,5,6,7,8,7,8,10])\n",
    "print(c)"
   ]
  },
  {
   "cell_type": "code",
   "execution_count": 53,
   "id": "03a1bdba",
   "metadata": {},
   "outputs": [
    {
     "name": "stdout",
     "output_type": "stream",
     "text": [
      "[ 24  45  34  24  34  24  44  67 778  78  98  45]\n"
     ]
    }
   ],
   "source": [
    "weight = np.array([24,45,34,24,34,24,44,67,778,78,98,45])\n",
    "print(weight)"
   ]
  },
  {
   "cell_type": "code",
   "execution_count": 54,
   "id": "881b864b",
   "metadata": {},
   "outputs": [
    {
     "name": "stdout",
     "output_type": "stream",
     "text": [
      "7.3683397683397684\n"
     ]
    }
   ],
   "source": [
    "print(np.average(c, weights=weight))"
   ]
  },
  {
   "cell_type": "markdown",
   "id": "01128711",
   "metadata": {},
   "source": [
    "# PERCENTILE"
   ]
  },
  {
   "cell_type": "code",
   "execution_count": 59,
   "id": "74975bb8",
   "metadata": {},
   "outputs": [
    {
     "name": "stdout",
     "output_type": "stream",
     "text": [
      "[ 2  5  6  3  4  5  6  7  8  7  8 10] \n",
      "\n",
      "2.55\n",
      "2.88\n",
      "[3.1 4.1 6.1]\n"
     ]
    }
   ],
   "source": [
    "print(c,\"\\n\")\n",
    "print(np.percentile(c,5,0))\n",
    "print(np.percentile(c,8,0))\n",
    "print(np.percentile(v,5,1))"
   ]
  },
  {
   "cell_type": "markdown",
   "id": "93487995",
   "metadata": {},
   "source": [
    "# PEAK TO PEAK"
   ]
  },
  {
   "cell_type": "code",
   "execution_count": 63,
   "id": "05d55fda",
   "metadata": {},
   "outputs": [
    {
     "name": "stdout",
     "output_type": "stream",
     "text": [
      "[[3. 4. 5.]\n",
      " [4. 5. 6.]\n",
      " [6. 7. 8.]] \n",
      "\n",
      "[ 2  5  6  3  4  5  6  7  8  7  8 10] \n",
      "\n",
      "8\n",
      "[3. 3. 3.]\n",
      "[2. 2. 2.]\n"
     ]
    }
   ],
   "source": [
    "print(v,\"\\n\")\n",
    "print(c,\"\\n\")\n",
    "\n",
    "print(np.ptp(c,0))\n",
    "print(np.ptp(v,0))\n",
    "print(np.ptp(v,1))"
   ]
  },
  {
   "cell_type": "code",
   "execution_count": 65,
   "id": "f1d06e41",
   "metadata": {},
   "outputs": [
    {
     "name": "stdout",
     "output_type": "stream",
     "text": [
      "[[3. 4. 5.]\n",
      " [4. 5. 6.]\n",
      " [6. 7. 8.]] \n",
      "\n",
      "(3, 3) \n",
      "\n",
      "[[3. 4. 5. 4. 5. 6. 6. 7. 8.]] \n",
      "\n",
      "[[3. 4. 5.]\n",
      " [4. 5. 6.]\n",
      " [6. 7. 8.]]\n"
     ]
    }
   ],
   "source": [
    "print(v,\"\\n\")\n",
    "print(v.shape,\"\\n\")\n",
    "print(v.reshape(1,9),\"\\n\")\n",
    "print(v)"
   ]
  },
  {
   "cell_type": "markdown",
   "id": "21d04c04",
   "metadata": {},
   "source": [
    "# SLICING"
   ]
  },
  {
   "cell_type": "code",
   "execution_count": 71,
   "id": "1d90b15a",
   "metadata": {},
   "outputs": [
    {
     "name": "stdout",
     "output_type": "stream",
     "text": [
      "[[24 45 27 29]\n",
      " [34 56 67 34]\n",
      " [34 87 98 23]] \n",
      "\n",
      "29 \n",
      "\n",
      "67 \n",
      "\n",
      "23 \n",
      "\n",
      "[45 56] \n",
      "\n",
      "[24 45 27] \n",
      "\n",
      "[34 87 98 23] \n",
      "\n",
      "[34 87] \n",
      "\n",
      "[[45 27]\n",
      " [56 67]] \n",
      "\n"
     ]
    }
   ],
   "source": [
    "l= np.array([[24,45,27,29],[34,56,67,34],[34,87,98,23]])\n",
    "print(l,\"\\n\")\n",
    "#to print element based on matrix location\n",
    "print(l[0,3],\"\\n\")\n",
    "print(l[1,2],\"\\n\")\n",
    "print(l[2,3],\"\\n\")\n",
    "\n",
    "#to print from zeroth row  and first column\n",
    "print(l[0:2,1],\"\\n\")\n",
    "\n",
    "print(l[0,0:3],\"\\n\")\n",
    "print(l[-1],\"\\n\")\n",
    "print(l[-1,0:2],\"\\n\")\n",
    "print(l[0:2,1:3],\"\\n\")"
   ]
  },
  {
   "cell_type": "markdown",
   "id": "d6a28f3c",
   "metadata": {},
   "source": [
    "# STACKING"
   ]
  },
  {
   "cell_type": "code",
   "execution_count": 74,
   "id": "3d001da5",
   "metadata": {},
   "outputs": [
    {
     "name": "stdout",
     "output_type": "stream",
     "text": [
      "[[ 0  1  2  3]\n",
      " [ 4  5  6  7]\n",
      " [ 8  9 10 11]] \n",
      "\n",
      "[[35 36 37 38]\n",
      " [39 40 41 42]\n",
      " [43 44 45 46]]\n"
     ]
    }
   ],
   "source": [
    "s=np.arange(12).reshape(3,4)\n",
    "print(s,\"\\n\")\n",
    "t= np.arange(35,47).reshape(3,4)\n",
    "print(t)                           "
   ]
  },
  {
   "cell_type": "code",
   "execution_count": 76,
   "id": "18f3696a",
   "metadata": {},
   "outputs": [
    {
     "name": "stdout",
     "output_type": "stream",
     "text": [
      "[[ 0  1  2  3]\n",
      " [ 4  5  6  7]\n",
      " [ 8  9 10 11]] \n",
      "\n",
      "[[35 36 37 38]\n",
      " [39 40 41 42]\n",
      " [43 44 45 46]] \n",
      "\n",
      "[[ 0  1  2  3 35 36 37 38]\n",
      " [ 4  5  6  7 39 40 41 42]\n",
      " [ 8  9 10 11 43 44 45 46]] \n",
      "\n",
      "[[35 36 37 38  0  1  2  3]\n",
      " [39 40 41 42  4  5  6  7]\n",
      " [43 44 45 46  8  9 10 11]] \n",
      "\n"
     ]
    }
   ],
   "source": [
    "print(s,\"\\n\")\n",
    "print(t,\"\\n\")\n",
    "print(np.hstack((s,t)),\"\\n\")\n",
    "print(np.hstack((t,s)),\"\\n\")"
   ]
  },
  {
   "cell_type": "code",
   "execution_count": 77,
   "id": "f079cf5a",
   "metadata": {},
   "outputs": [
    {
     "name": "stdout",
     "output_type": "stream",
     "text": [
      "[[ 0  1  2  3]\n",
      " [ 4  5  6  7]\n",
      " [ 8  9 10 11]] \n",
      "\n",
      "[[35 36 37 38]\n",
      " [39 40 41 42]\n",
      " [43 44 45 46]] \n",
      "\n",
      "[[ 0  1  2  3]\n",
      " [ 4  5  6  7]\n",
      " [ 8  9 10 11]\n",
      " [35 36 37 38]\n",
      " [39 40 41 42]\n",
      " [43 44 45 46]] \n",
      "\n",
      "[[35 36 37 38]\n",
      " [39 40 41 42]\n",
      " [43 44 45 46]\n",
      " [ 0  1  2  3]\n",
      " [ 4  5  6  7]\n",
      " [ 8  9 10 11]] \n",
      "\n"
     ]
    }
   ],
   "source": [
    "print(s,\"\\n\")\n",
    "print(t,\"\\n\")\n",
    "print(np.vstack((s,t)),\"\\n\")\n",
    "print(np.vstack((t,s)),\"\\n\")"
   ]
  },
  {
   "cell_type": "markdown",
   "id": "39540cd5",
   "metadata": {},
   "source": [
    "# RANDOM NUMBER GENERATOR"
   ]
  },
  {
   "cell_type": "code",
   "execution_count": 79,
   "id": "0d4e7124",
   "metadata": {},
   "outputs": [],
   "source": [
    "from numpy import random"
   ]
  },
  {
   "cell_type": "code",
   "execution_count": 80,
   "id": "6c62ed3f",
   "metadata": {},
   "outputs": [
    {
     "name": "stdout",
     "output_type": "stream",
     "text": [
      "18\n"
     ]
    }
   ],
   "source": [
    "#to int\n",
    "x= random.randint(100)\n",
    "print(x)"
   ]
  },
  {
   "cell_type": "code",
   "execution_count": 84,
   "id": "420f6725",
   "metadata": {},
   "outputs": [
    {
     "name": "stdout",
     "output_type": "stream",
     "text": [
      "0.2751456687413262\n"
     ]
    }
   ],
   "source": [
    "# to float\n",
    "y = random.rand()\n",
    "print(y)"
   ]
  },
  {
   "cell_type": "code",
   "execution_count": null,
   "id": "68385757",
   "metadata": {},
   "outputs": [],
   "source": []
  }
 ],
 "metadata": {
  "kernelspec": {
   "display_name": "Python 3 (ipykernel)",
   "language": "python",
   "name": "python3"
  },
  "language_info": {
   "codemirror_mode": {
    "name": "ipython",
    "version": 3
   },
   "file_extension": ".py",
   "mimetype": "text/x-python",
   "name": "python",
   "nbconvert_exporter": "python",
   "pygments_lexer": "ipython3",
   "version": "3.9.12"
  }
 },
 "nbformat": 4,
 "nbformat_minor": 5
}
